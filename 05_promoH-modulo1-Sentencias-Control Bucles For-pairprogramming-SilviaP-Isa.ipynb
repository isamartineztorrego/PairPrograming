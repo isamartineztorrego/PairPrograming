{
 "cells": [
  {
   "cell_type": "markdown",
   "metadata": {},
   "source": [
    "# Pair programming Sentencias de Control\n",
    "\n",
    "## bucles for, list comprehension y try ..except"
   ]
  },
  {
   "cell_type": "markdown",
   "metadata": {},
   "source": [
    "## Ejericios bucles for"
   ]
  },
  {
   "cell_type": "markdown",
   "metadata": {},
   "source": [
    "1. Imprimir los números del 1 al 5 utilizando un bucle for\n",
    "\n",
    "        Descripción: Utiliza un bucle for para imprimir los números del 1 al 5 (incluido) en orden ascendente."
   ]
  },
  {
   "cell_type": "code",
   "execution_count": 1,
   "metadata": {},
   "outputs": [
    {
     "name": "stdout",
     "output_type": "stream",
     "text": [
      "número 1\n",
      "número 2\n",
      "número 3\n",
      "número 4\n",
      "número 5\n"
     ]
    }
   ],
   "source": [
    "for i in range(1,6):\n",
    "    print(f\"número {i}\")"
   ]
  },
  {
   "cell_type": "markdown",
   "metadata": {},
   "source": [
    "2. Calcular la suma de los primeros 10 números naturales utilizando un bucle for\n",
    "\n",
    "        Descripción: Utiliza un bucle for para calcular la suma de los primeros 10 números naturales (1 + 2 + 3 + ... + 10)."
   ]
  },
  {
   "cell_type": "code",
   "execution_count": 2,
   "metadata": {},
   "outputs": [
    {
     "name": "stdout",
     "output_type": "stream",
     "text": [
      "55\n"
     ]
    }
   ],
   "source": [
    "suma = 0\n",
    "for i in range(1,11):\n",
    "    suma += i\n",
    "print(suma)"
   ]
  },
  {
   "cell_type": "markdown",
   "metadata": {},
   "source": [
    "3. Calcular el producto de los elementos de una lista\n",
    "\n",
    "        Descripción: Dada una lista de números, utiliza un bucle for para calcular el producto de todos los elementos."
   ]
  },
  {
   "cell_type": "code",
   "execution_count": 3,
   "metadata": {},
   "outputs": [
    {
     "name": "stdout",
     "output_type": "stream",
     "text": [
      "120\n"
     ]
    }
   ],
   "source": [
    "lista = [1,2,3,4,5]\n",
    "producto = 1\n",
    "for i in lista:\n",
    "    producto *= i\n",
    "print(producto)"
   ]
  },
  {
   "cell_type": "markdown",
   "metadata": {},
   "source": [
    "4. Imprimir los caracteres de una cadena de texto\n",
    "\n",
    "        Descripción: Dada una cadena de texto, utiliza un bucle for para imprimir cada carácter en una línea separada."
   ]
  },
  {
   "cell_type": "code",
   "execution_count": 5,
   "metadata": {},
   "outputs": [
    {
     "name": "stdout",
     "output_type": "stream",
     "text": [
      "h\n",
      "o\n",
      "l\n",
      "a\n"
     ]
    }
   ],
   "source": [
    "cadena = 'hola'\n",
    "for i in cadena:\n",
    "    print(i)"
   ]
  },
  {
   "cell_type": "markdown",
   "metadata": {},
   "source": [
    "5. Imprimir los números pares del 1 al 100 utilizando un bucle for\n",
    "\n",
    "        Descripción: Utiliza un bucle for para imprimir los números pares del 1 al 100 en orden ascendente."
   ]
  },
  {
   "cell_type": "code",
   "execution_count": 9,
   "metadata": {},
   "outputs": [
    {
     "name": "stdout",
     "output_type": "stream",
     "text": [
      "2\n",
      "4\n",
      "6\n",
      "8\n",
      "10\n",
      "12\n",
      "14\n",
      "16\n",
      "18\n",
      "20\n",
      "22\n",
      "24\n",
      "26\n",
      "28\n",
      "30\n",
      "32\n",
      "34\n",
      "36\n",
      "38\n",
      "40\n",
      "42\n",
      "44\n",
      "46\n",
      "48\n",
      "50\n",
      "52\n",
      "54\n",
      "56\n",
      "58\n",
      "60\n",
      "62\n",
      "64\n",
      "66\n",
      "68\n",
      "70\n",
      "72\n",
      "74\n",
      "76\n",
      "78\n",
      "80\n",
      "82\n",
      "84\n",
      "86\n",
      "88\n",
      "90\n",
      "92\n",
      "94\n",
      "96\n",
      "98\n",
      "100\n"
     ]
    }
   ],
   "source": [
    "for i in range(2,101,2):\n",
    "    print(i)"
   ]
  },
  {
   "cell_type": "markdown",
   "metadata": {},
   "source": [
    "6. Imprimir los números primos del 1 al 50 utilizando un bucle for\n",
    "\n",
    "        Descripción: Utiliza un bucle for para imprimir los números primos del 1 al 50 en orden ascendente.\n",
    "\n",
    "        NOTA: Según la Wikipedia, un número primo es un número natural mayor que 1 que no tiene divisores positivos más que 1 y él mismo."
   ]
  },
  {
   "cell_type": "code",
   "execution_count": 32,
   "metadata": {},
   "outputs": [
    {
     "name": "stdout",
     "output_type": "stream",
     "text": [
      "1 es primo\n",
      "2 es primo\n",
      "3 es primo\n",
      "4 no es primo\n",
      "4 no es primo\n",
      "5 no es primo\n",
      "6 no es primo\n",
      "6 no es primo\n",
      "6 no es primo\n",
      "7 no es primo\n",
      "8 no es primo\n",
      "8 no es primo\n",
      "8 no es primo\n",
      "9 no es primo\n",
      "9 no es primo\n",
      "10 no es primo\n",
      "10 no es primo\n",
      "10 no es primo\n",
      "11 no es primo\n",
      "12 no es primo\n",
      "12 no es primo\n",
      "12 no es primo\n",
      "12 no es primo\n",
      "12 no es primo\n",
      "13 no es primo\n",
      "14 no es primo\n",
      "14 no es primo\n",
      "14 no es primo\n",
      "15 no es primo\n",
      "15 no es primo\n",
      "15 no es primo\n",
      "16 no es primo\n",
      "16 no es primo\n",
      "16 no es primo\n",
      "16 no es primo\n",
      "17 no es primo\n",
      "18 no es primo\n",
      "18 no es primo\n",
      "18 no es primo\n",
      "18 no es primo\n",
      "18 no es primo\n",
      "19 no es primo\n",
      "20 no es primo\n",
      "20 no es primo\n",
      "20 no es primo\n",
      "20 no es primo\n",
      "20 no es primo\n",
      "21 no es primo\n",
      "21 no es primo\n",
      "21 no es primo\n",
      "22 no es primo\n",
      "22 no es primo\n",
      "22 no es primo\n",
      "23 no es primo\n",
      "24 no es primo\n",
      "24 no es primo\n",
      "24 no es primo\n",
      "24 no es primo\n",
      "24 no es primo\n",
      "24 no es primo\n",
      "24 no es primo\n",
      "25 no es primo\n",
      "25 no es primo\n",
      "26 no es primo\n",
      "26 no es primo\n",
      "26 no es primo\n",
      "27 no es primo\n",
      "27 no es primo\n",
      "27 no es primo\n",
      "28 no es primo\n",
      "28 no es primo\n",
      "28 no es primo\n",
      "28 no es primo\n",
      "28 no es primo\n",
      "29 no es primo\n",
      "30 no es primo\n",
      "30 no es primo\n",
      "30 no es primo\n",
      "30 no es primo\n",
      "30 no es primo\n",
      "30 no es primo\n",
      "30 no es primo\n",
      "31 no es primo\n",
      "32 no es primo\n",
      "32 no es primo\n",
      "32 no es primo\n",
      "32 no es primo\n",
      "32 no es primo\n",
      "33 no es primo\n",
      "33 no es primo\n",
      "33 no es primo\n",
      "34 no es primo\n",
      "34 no es primo\n",
      "34 no es primo\n",
      "35 no es primo\n",
      "35 no es primo\n",
      "35 no es primo\n",
      "36 no es primo\n",
      "36 no es primo\n",
      "36 no es primo\n",
      "36 no es primo\n",
      "36 no es primo\n",
      "36 no es primo\n",
      "36 no es primo\n",
      "36 no es primo\n",
      "37 no es primo\n",
      "38 no es primo\n",
      "38 no es primo\n",
      "38 no es primo\n",
      "39 no es primo\n",
      "39 no es primo\n",
      "39 no es primo\n",
      "40 no es primo\n",
      "40 no es primo\n",
      "40 no es primo\n",
      "40 no es primo\n",
      "40 no es primo\n",
      "40 no es primo\n",
      "40 no es primo\n",
      "41 no es primo\n",
      "42 no es primo\n",
      "42 no es primo\n",
      "42 no es primo\n",
      "42 no es primo\n",
      "42 no es primo\n",
      "42 no es primo\n",
      "42 no es primo\n",
      "43 no es primo\n",
      "44 no es primo\n",
      "44 no es primo\n",
      "44 no es primo\n",
      "44 no es primo\n",
      "44 no es primo\n",
      "45 no es primo\n",
      "45 no es primo\n",
      "45 no es primo\n",
      "45 no es primo\n",
      "45 no es primo\n",
      "46 no es primo\n",
      "46 no es primo\n",
      "46 no es primo\n",
      "47 no es primo\n",
      "48 no es primo\n",
      "48 no es primo\n",
      "48 no es primo\n",
      "48 no es primo\n",
      "48 no es primo\n",
      "48 no es primo\n",
      "48 no es primo\n",
      "48 no es primo\n",
      "48 no es primo\n",
      "49 no es primo\n",
      "49 no es primo\n",
      "50 no es primo\n",
      "50 no es primo\n",
      "50 no es primo\n",
      "50 no es primo\n",
      "50 no es primo\n"
     ]
    }
   ],
   "source": [
    "\n",
    "for i in range(1, 51):\n",
    "    if i <= 3:\n",
    "        print(f\"{i} es primo\")\n",
    "    else:\n",
    "        for j in range(1, i//2+1):\n",
    "            if i%j == 0:\n",
    "                print(f\"{i} no es primo\")\n",
    "           \n",
    "    "
   ]
  },
  {
   "cell_type": "markdown",
   "metadata": {},
   "source": [
    "7. Calcular el factorial de un número utilizando un bucle for\n",
    "\n",
    "        Descripción: Dado un número entero positivo, calcula su factorial utilizando un bucle for."
   ]
  },
  {
   "cell_type": "code",
   "execution_count": null,
   "metadata": {},
   "outputs": [],
   "source": []
  },
  {
   "cell_type": "markdown",
   "metadata": {},
   "source": [
    "8. Juego de adivinar palabras utilizando un bucle for\n",
    "\n",
    "    Descripción: Crea un juego en el que el jugador debe adivinar una palabra secreta. El jugador tiene un número limitado de intentos y se le proporcionan pistas después de cada intento. Utiliza un bucle for para controlar los intentos del jugador."
   ]
  },
  {
   "cell_type": "code",
   "execution_count": null,
   "metadata": {},
   "outputs": [],
   "source": []
  },
  {
   "cell_type": "markdown",
   "metadata": {},
   "source": [
    "## Ejercicios list comprehension"
   ]
  },
  {
   "cell_type": "markdown",
   "metadata": {},
   "source": [
    "1. Generar una lista de los números pares del 1 al 20.\n",
    "\n",
    "        Descripción: Utiliza list comprehension para generar una lista que contenga todos los números pares en el rango del 1 al 20."
   ]
  },
  {
   "cell_type": "code",
   "execution_count": null,
   "metadata": {},
   "outputs": [],
   "source": []
  },
  {
   "cell_type": "markdown",
   "metadata": {},
   "source": [
    "2. Obtener una lista de las vocales en una cadena de texto.\n",
    "\n",
    "        Descripción: Utiliza list comprehension para crear una lista que contenga todas las vocales presentes en una cadena de texto (sin repetición)."
   ]
  },
  {
   "cell_type": "code",
   "execution_count": null,
   "metadata": {},
   "outputs": [],
   "source": []
  },
  {
   "cell_type": "markdown",
   "metadata": {},
   "source": [
    "3. Filtrar los números positivos de una lista y calcular su cuadrado.\n",
    "\n",
    "        Descripción: Utiliza list comprehension para filtrar los números positivos de una lista y calcular el cuadrado de cada uno."
   ]
  },
  {
   "cell_type": "code",
   "execution_count": null,
   "metadata": {},
   "outputs": [],
   "source": []
  },
  {
   "cell_type": "markdown",
   "metadata": {},
   "source": [
    "## Ejercicios try ...except"
   ]
  },
  {
   "cell_type": "markdown",
   "metadata": {},
   "source": [
    "1. Realizar una búsqueda en una lista y capturar una excepción en caso de valor no encontrado.\n",
    "\n",
    "        Descripción: Solicita al usuario una lista de nombres y un nombre para buscar en la lista. Intenta encontrar el nombre en la lista y utiliza las sentencias try y except para capturar la excepción en caso de que el nombre no sea encontrado."
   ]
  },
  {
   "cell_type": "code",
   "execution_count": null,
   "metadata": {},
   "outputs": [],
   "source": []
  }
 ],
 "metadata": {
  "kernelspec": {
   "display_name": "base",
   "language": "python",
   "name": "python3"
  },
  "language_info": {
   "codemirror_mode": {
    "name": "ipython",
    "version": 3
   },
   "file_extension": ".py",
   "mimetype": "text/x-python",
   "name": "python",
   "nbconvert_exporter": "python",
   "pygments_lexer": "ipython3",
   "version": "3.9.7"
  }
 },
 "nbformat": 4,
 "nbformat_minor": 2
}
