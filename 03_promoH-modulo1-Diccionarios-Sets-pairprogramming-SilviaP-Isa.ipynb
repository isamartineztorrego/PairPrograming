{
 "cells": [
  {
   "cell_type": "markdown",
   "metadata": {},
   "source": [
    "# Pair programming Diccionarios y Sets"
   ]
  },
  {
   "cell_type": "markdown",
   "metadata": {},
   "source": [
    "## Ejercicios diccionarios"
   ]
  },
  {
   "cell_type": "markdown",
   "metadata": {},
   "source": [
    "1. Crear un diccionario vacío\n",
    "\n",
    "        Descripción: Crea un diccionario vacío sin ningún par clave-valor."
   ]
  },
  {
   "cell_type": "code",
   "execution_count": 2,
   "metadata": {},
   "outputs": [],
   "source": [
    "diccionario = {}"
   ]
  },
  {
   "cell_type": "markdown",
   "metadata": {},
   "source": [
    "\n",
    "2. Crear un diccionario con elementos\n",
    "\n",
    "        Descripción: Crea un diccionario con pares clave-valor predefinidos. Definir el diccionario con las claves y valores que querais. NOTA El diccionario debe tener al menos 5 pares de clave:valor."
   ]
  },
  {
   "cell_type": "code",
   "execution_count": 3,
   "metadata": {},
   "outputs": [],
   "source": [
    "datos= {\"nombre\":\"Isabel\",\"apellidos\":\"Martinez\",\"direccion\":\"Calle Mayor\",\"telefono\":\"55555555\",\"email\":\"isabel@gmail.com\"}\n"
   ]
  },
  {
   "cell_type": "markdown",
   "metadata": {},
   "source": [
    "3. Acceder al valor de una clave en un diccionario\n",
    "\n",
    "        Descripción: Usando el diccionario creado en el paso anterior, obtén el valor correspondiente a una clave específica que indique el usuario (debereis usar la función input() para preguntar al usuario)."
   ]
  },
  {
   "cell_type": "code",
   "execution_count": 4,
   "metadata": {},
   "outputs": [
    {
     "name": "stdout",
     "output_type": "stream",
     "text": [
      "Clave no encontrada, vuelva a introducir otra\n"
     ]
    }
   ],
   "source": [
    "clave=input (\"Introduce la clave a buscar\")\n",
    "#print(clave)\n",
    "print(datos.get(clave,\"Clave no encontrada, vuelva a introducir otra\"))"
   ]
  },
  {
   "cell_type": "markdown",
   "metadata": {},
   "source": [
    "4. Agregar un nuevo par clave-valor a un diccionario\n",
    "\n",
    "        Descripción: Usando el diccionario creado en el ejercicio 2, agrega un nuevo par clave-valor."
   ]
  },
  {
   "cell_type": "code",
   "execution_count": 5,
   "metadata": {},
   "outputs": [
    {
     "name": "stdout",
     "output_type": "stream",
     "text": [
      "{'nombre': 'Isabel', 'apellidos': 'Martinez', 'direccion': 'Calle Mayor', 'telefono': '55555555', 'email': 'isabel@gmail.com'}\n",
      "{'nombre': 'Isabel', 'apellidos': 'Martinez', 'direccion': 'Calle Mayor', 'telefono': '55555555', 'email': 'isabel@gmail.com', 'nickname': 'Isa'}\n"
     ]
    }
   ],
   "source": [
    "print(datos)\n",
    "datos.update({\"nickname\":\"Isa\"})\n",
    "print(datos)"
   ]
  },
  {
   "cell_type": "markdown",
   "metadata": {},
   "source": [
    "5. Actualizar el valor de una clave en un diccionario\n",
    "\n",
    "        Descripción: Usando el diccionario creado en el ejercicio 2, actualiza el valor correspondiente a una clave existente. Ejemplo:\n",
    "\n",
    "        Dado el siguiente diccionario\n",
    "        {'nombre': 'Ana', 'edad': 25, 'ciudad': 'Madrid', 'hijos': 1}\n",
    "\n",
    "        El ouptut esperado es: (ha cambiado el valor de la clave edad)\n",
    "        {'nombre': 'Ana', 'edad': 40, 'ciudad': 'Madrid', 'hijos': 1}"
   ]
  },
  {
   "cell_type": "code",
   "execution_count": 6,
   "metadata": {},
   "outputs": [
    {
     "name": "stdout",
     "output_type": "stream",
     "text": [
      "{'nombre': 'Isabel', 'apellidos': 'Martinez', 'direccion': 'Calle Mayor', 'telefono': '55555555', 'email': 'isabel@gmail.com', 'nickname': 'Isa'}\n",
      "{'nombre': 'Isabel', 'apellidos': 'Martinez', 'direccion': 'calle del pez', 'telefono': '55555555', 'email': 'isabel@gmail.com', 'nickname': 'Isa'}\n"
     ]
    }
   ],
   "source": [
    "print(datos)\n",
    "datos.update({\"direccion\":\"calle del pez\"})\n",
    "print(datos)"
   ]
  },
  {
   "cell_type": "markdown",
   "metadata": {},
   "source": [
    "6. Eliminar un par clave-valor de un diccionario\n",
    "\n",
    "        Descripción: Usando el diccionario creado en el ejercicio 2, elimina un par clave-valor específico que indique el usuario (debereis usar la función input() para preguntar al usuario)."
   ]
  },
  {
   "cell_type": "code",
   "execution_count": 8,
   "metadata": {},
   "outputs": [
    {
     "name": "stdout",
     "output_type": "stream",
     "text": [
      "{'nombre': 'Isabel', 'apellidos': 'Martinez', 'direccion': 'calle del pez', 'telefono': '55555555', 'email': 'isabel@gmail.com', 'nickname': 'Isa'}\n",
      "{'nombre': 'Isabel', 'apellidos': 'Martinez', 'direccion': 'calle del pez', 'telefono': '55555555', 'email': 'isabel@gmail.com'}\n"
     ]
    }
   ],
   "source": [
    "print(datos)\n",
    "\n",
    "eliminar = input(\"¿Qué clave-valor quieres eliminar?\")\n",
    "datos.pop(eliminar)\n",
    "print(datos)"
   ]
  },
  {
   "cell_type": "markdown",
   "metadata": {},
   "source": [
    "7. Verificar si una clave está presente en un diccionario\n",
    "\n",
    "        Descripción: Usando el diccionario creado en el ejercicio 2, verifica si una clave específica está presente en él. La clave a buscar debe ser pasada por el usuario, debereis usar un input()."
   ]
  },
  {
   "cell_type": "code",
   "execution_count": 10,
   "metadata": {},
   "outputs": [
    {
     "name": "stdout",
     "output_type": "stream",
     "text": [
      "{'nombre': 'Isabel', 'apellidos': 'Martinez', 'direccion': 'calle del pez', 'telefono': '55555555', 'email': 'isabel@gmail.com'}\n",
      "Si la clave está el resultado es True, si no False: True\n"
     ]
    }
   ],
   "source": [
    "print(datos)\n",
    "\n",
    "verificacion = input(\"¿Qué clave quieres verificar?\")\n",
    "print('Si la clave está el resultado es True, si no False:', verificacion in datos)"
   ]
  },
  {
   "cell_type": "markdown",
   "metadata": {},
   "source": [
    "8. Obtener una lista de todas las claves de un diccionario\n",
    "\n",
    "        Descripción: Usando el diccionario creado en el ejercicio 2, obtén una lista con todas las claves que contiene."
   ]
  },
  {
   "cell_type": "code",
   "execution_count": 11,
   "metadata": {},
   "outputs": [
    {
     "name": "stdout",
     "output_type": "stream",
     "text": [
      "dict_keys(['nombre', 'apellidos', 'direccion', 'telefono', 'email'])\n"
     ]
    }
   ],
   "source": [
    "print(datos.keys())"
   ]
  },
  {
   "cell_type": "markdown",
   "metadata": {},
   "source": [
    "9. Obtener una lista de todos los valores de un diccionario\n",
    "\n",
    "        Descripción: Usando el diccionario creado en el ejercicio 2, obtén una lista con todos los valores que contiene."
   ]
  },
  {
   "cell_type": "code",
   "execution_count": 12,
   "metadata": {},
   "outputs": [
    {
     "name": "stdout",
     "output_type": "stream",
     "text": [
      "dict_values(['Isabel', 'Martinez', 'calle del pez', '55555555', 'isabel@gmail.com'])\n"
     ]
    }
   ],
   "source": [
    "print(datos.values())"
   ]
  },
  {
   "cell_type": "markdown",
   "metadata": {},
   "source": [
    "10. Utilizar el método setdefault() para establecer un valor predeterminado si la clave no existe\n",
    "\n",
    "        Descripción: Usando el diccionario creado en el ejercicio 2, obten el valor correspondiente a una clave. Si la clave no existe, establece un valor predeterminado y devuelve dicho valor."
   ]
  },
  {
   "cell_type": "code",
   "execution_count": 13,
   "metadata": {},
   "outputs": [
    {
     "name": "stdout",
     "output_type": "stream",
     "text": [
      "{'nombre': 'Isabel', 'apellidos': 'Martinez', 'direccion': 'calle del pez', 'telefono': '55555555', 'email': 'isabel@gmail.com'}\n",
      "sin entrada\n",
      "{'nombre': 'Isabel', 'apellidos': 'Martinez', 'direccion': 'calle del pez', 'telefono': '55555555', 'email': 'isabel@gmail.com', 'género': 'sin entrada'}\n"
     ]
    }
   ],
   "source": [
    "print(datos)\n",
    "print(datos.setdefault('género','sin entrada'))\n",
    "print(datos)"
   ]
  },
  {
   "cell_type": "markdown",
   "metadata": {},
   "source": [
    "11. Manipulación de un diccionario utilizando pop() y popitem()\n",
    "\n",
    "        Descripción: Usando el diccionario creado en el ejercicio 2, realiza operaciones de eliminación utilizando pop() y popitem(), y observa cómo afectan al diccionario."
   ]
  },
  {
   "cell_type": "code",
   "execution_count": 14,
   "metadata": {},
   "outputs": [
    {
     "name": "stdout",
     "output_type": "stream",
     "text": [
      "{'nombre': 'Isabel', 'apellidos': 'Martinez', 'direccion': 'calle del pez', 'telefono': '55555555', 'email': 'isabel@gmail.com', 'género': 'sin entrada'}\n",
      "Eliminamos clave email isabel@gmail.com\n",
      "{'nombre': 'Isabel', 'apellidos': 'Martinez', 'direccion': 'calle del pez', 'telefono': '55555555', 'género': 'sin entrada'}\n"
     ]
    }
   ],
   "source": [
    "# pop() elimina un elemento específico según su clave\n",
    "print(datos)\n",
    "print(\"Eliminamos clave email\", datos.pop(\"email\"))\n",
    "print(datos)\n"
   ]
  },
  {
   "cell_type": "code",
   "execution_count": 15,
   "metadata": {},
   "outputs": [
    {
     "name": "stdout",
     "output_type": "stream",
     "text": [
      "{'nombre': 'Isabel', 'apellidos': 'Martinez', 'direccion': 'calle del pez', 'telefono': '55555555', 'género': 'sin entrada'}\n",
      "Eliminamos la última clave ('género', 'sin entrada')\n",
      "{'nombre': 'Isabel', 'apellidos': 'Martinez', 'direccion': 'calle del pez', 'telefono': '55555555'}\n"
     ]
    }
   ],
   "source": [
    "# popitem() elimina el último clave\n",
    "print(datos)\n",
    "print(\"Eliminamos la última clave\", datos.popitem())\n",
    "print(datos)"
   ]
  },
  {
   "cell_type": "markdown",
   "metadata": {},
   "source": [
    "## Ejercicios sets"
   ]
  },
  {
   "cell_type": "markdown",
   "metadata": {},
   "source": [
    "1. Crear un conjunto vacío\n",
    "\n",
    "        Descripción: Crea un conjunto vacío sin ningún elemento."
   ]
  },
  {
   "cell_type": "code",
   "execution_count": 16,
   "metadata": {},
   "outputs": [],
   "source": [
    "set1 = {}"
   ]
  },
  {
   "cell_type": "markdown",
   "metadata": {},
   "source": [
    "2. Crear un conjunto con elementos\n",
    "\n",
    "        Descripción: Crea un conjunto con elementos predefinidos."
   ]
  },
  {
   "cell_type": "code",
   "execution_count": 17,
   "metadata": {},
   "outputs": [],
   "source": [
    "set2 = {'verde', 'azul', 'rojo', 'amarillo'}"
   ]
  },
  {
   "cell_type": "markdown",
   "metadata": {},
   "source": [
    "3. Agregar elementos a un conjunto\n",
    "\n",
    "        Descripción: Usando el set creado en el ejercicio 2, agrega nuevos elementos. Debereis agregar por separado:\n",
    "\n",
    "            Un elemento solo\n",
    "\n",
    "            Un par de elementos a la vez."
   ]
  },
  {
   "cell_type": "code",
   "execution_count": 18,
   "metadata": {},
   "outputs": [
    {
     "name": "stdout",
     "output_type": "stream",
     "text": [
      "{'azul', 'rojo', 'amarillo', 'verde'}\n",
      "{'verde', 'azul', 'amarillo', 'rosa', 'rojo'}\n"
     ]
    }
   ],
   "source": [
    "print(set2)\n",
    "\n",
    "# añadimos un elemento solo\n",
    "set2.add(('rosa'))\n",
    "print(set2)\n"
   ]
  },
  {
   "cell_type": "code",
   "execution_count": 19,
   "metadata": {},
   "outputs": [
    {
     "name": "stdout",
     "output_type": "stream",
     "text": [
      "{'verde', 'azul', 'amarillo', 'rosa', 'rojo'}\n",
      "{'verde', 'azul', 'amarillo', 'rosa', 'lila', 'rojo', 'granate'}\n"
     ]
    }
   ],
   "source": [
    "print(set2)\n",
    "\n",
    "# añadimos varios elementos, tenemos que crear nueva variable\n",
    "añadidos = ['granate', 'lila']\n",
    "set2.update(añadidos)\n",
    "print(set2)"
   ]
  },
  {
   "cell_type": "markdown",
   "metadata": {},
   "source": [
    "5. Eliminar un elemento de un conjunto\n",
    "\n",
    "        Descripción: Usando el set creado en el ejercicio 2, elimina un elemento especificado por el usuario."
   ]
  },
  {
   "cell_type": "code",
   "execution_count": 23,
   "metadata": {},
   "outputs": [
    {
     "name": "stdout",
     "output_type": "stream",
     "text": [
      "Este es el set2 antes de eliminar: {'verde', 'azul', 'amarillo', 'rosa', 'lila', 'rojo', 'granate'}\n",
      "El color a eliminar es: verde\n",
      "Este es el set2 tras la eliminación: {'azul', 'amarillo', 'rosa', 'lila', 'rojo', 'granate'}\n"
     ]
    }
   ],
   "source": [
    "print(\"Este es el set2 antes de eliminar:\", set2)\n",
    "color_eliminado = input(\"¿Qué color quieres eliminar: verde, azul, amarillo, rosa, lila, rojo o granate?\")\n",
    "print(\"El color a eliminar es:\", color_eliminado)\n",
    "\n",
    "set2.remove(color_eliminado)\n",
    "print(\"Este es el set2 tras la eliminación:\", set2)"
   ]
  },
  {
   "cell_type": "markdown",
   "metadata": {},
   "source": [
    "6. Verificar la pertenencia de un elemento en un conjunto\n",
    "\n",
    "        Descripción: Usando el set creado en el ejercicio 2, verifica si un elemento específico está presente en él."
   ]
  },
  {
   "cell_type": "code",
   "execution_count": 26,
   "metadata": {},
   "outputs": [
    {
     "name": "stdout",
     "output_type": "stream",
     "text": [
      "Este es el set2: {'azul', 'amarillo', 'rosa', 'lila', 'rojo', 'granate'}\n"
     ]
    },
    {
     "data": {
      "text/plain": [
       "True"
      ]
     },
     "execution_count": 26,
     "metadata": {},
     "output_type": "execute_result"
    }
   ],
   "source": [
    "print(\"Este es el set2:\", set2)\n",
    "color_comprobado = 'rojo'\n",
    "color_comprobado in set2"
   ]
  },
  {
   "cell_type": "markdown",
   "metadata": {},
   "source": [
    "7. Realizar una unión de conjuntos\n",
    "\n",
    "        Descripción: Dados dos conjuntos, realiza una unión de ellos."
   ]
  },
  {
   "cell_type": "code",
   "execution_count": 31,
   "metadata": {},
   "outputs": [
    {
     "name": "stdout",
     "output_type": "stream",
     "text": [
      "Este es el set2: {'azul', 'amarillo', 'rosa', 'lila', 'rojo', 'granate'}\n",
      "Este es el set3: {'azul', 'tomates', 'chocolate', 'amarillo'}\n",
      "Esta es la unión de ambos sets: {'azul', 'tomates', 'amarillo', 'rosa', 'lila', 'rojo', 'chocolate', 'granate'}\n"
     ]
    }
   ],
   "source": [
    "# creo un nuevo set porque el set1 está vacío\n",
    "set3 = {'tomates', 'chocolate', 'azul', 'amarillo'}\n",
    "\n",
    "print(\"Este es el set2:\", set2)\n",
    "print(\"Este es el set3:\", set3)\n",
    "\n",
    "set_union = set2.union(set3)\n",
    "print(\"Esta es la unión de ambos sets:\", set_union)"
   ]
  },
  {
   "cell_type": "markdown",
   "metadata": {},
   "source": [
    "8. Realizar una intersección de conjuntos\n",
    "\n",
    "        Descripción: Usando dos conjuntos de datos definidos en el ejercicio anterior, realiza una intersección de ellos."
   ]
  },
  {
   "cell_type": "code",
   "execution_count": 32,
   "metadata": {},
   "outputs": [
    {
     "name": "stdout",
     "output_type": "stream",
     "text": [
      "Este es el set2: {'azul', 'amarillo', 'rosa', 'lila', 'rojo', 'granate'}\n",
      "Este es el set3: {'azul', 'tomates', 'chocolate', 'amarillo'}\n",
      "Esta es la intersección de ambos sets: {'azul', 'amarillo'}\n"
     ]
    }
   ],
   "source": [
    "print(\"Este es el set2:\", set2)\n",
    "print(\"Este es el set3:\", set3)\n",
    "\n",
    "set_intersecion = set2.intersection(set3)\n",
    "print(\"Esta es la intersección de ambos sets:\", set_intersecion)"
   ]
  },
  {
   "cell_type": "markdown",
   "metadata": {},
   "source": [
    "9. Realizar una diferencia de conjuntos\n",
    "\n",
    "        Descripción: Usando dos conjuntos de datos definidos en el ejercicio anterior, realiza una diferencia entre ellos."
   ]
  },
  {
   "cell_type": "code",
   "execution_count": 34,
   "metadata": {},
   "outputs": [
    {
     "name": "stdout",
     "output_type": "stream",
     "text": [
      "Este es el set2: {'azul', 'amarillo', 'rosa', 'lila', 'rojo', 'granate'}\n",
      "Este es el set3: {'azul', 'tomates', 'chocolate', 'amarillo'}\n",
      "Estos son los elementos que tiene el set2 pero no el set3: {'rojo', 'rosa', 'lila', 'granate'}\n"
     ]
    }
   ],
   "source": [
    "print(\"Este es el set2:\", set2)\n",
    "print(\"Este es el set3:\", set3)\n",
    "\n",
    "set_diferencia = set2.difference(set3)\n",
    "print(\"Estos son los elementos que tiene el set2 pero no el set3:\", set_diferencia)"
   ]
  },
  {
   "cell_type": "markdown",
   "metadata": {},
   "source": [
    "10. Verificar si un conjunto es subconjunto de otro\n",
    "\n",
    "        Descripción: Dados dos conjuntos, verifica si uno es subconjunto del otro."
   ]
  },
  {
   "cell_type": "code",
   "execution_count": 36,
   "metadata": {},
   "outputs": [
    {
     "name": "stdout",
     "output_type": "stream",
     "text": [
      "Este es el set2: {'azul', 'amarillo', 'rosa', 'lila', 'rojo', 'granate'}\n",
      "Este es el set3: {'azul', 'tomates', 'chocolate', 'amarillo'}\n",
      "False\n"
     ]
    }
   ],
   "source": [
    "print(\"Este es el set2:\", set2)\n",
    "print(\"Este es el set3:\", set3)\n",
    "\n",
    "set_subset = set2.issubset(set3)\n",
    "print(set_subset)"
   ]
  }
 ],
 "metadata": {
  "kernelspec": {
   "display_name": "Python 3",
   "language": "python",
   "name": "python3"
  },
  "language_info": {
   "codemirror_mode": {
    "name": "ipython",
    "version": 3
   },
   "file_extension": ".py",
   "mimetype": "text/x-python",
   "name": "python",
   "nbconvert_exporter": "python",
   "pygments_lexer": "ipython3",
   "version": "3.11.2"
  }
 },
 "nbformat": 4,
 "nbformat_minor": 2
}
