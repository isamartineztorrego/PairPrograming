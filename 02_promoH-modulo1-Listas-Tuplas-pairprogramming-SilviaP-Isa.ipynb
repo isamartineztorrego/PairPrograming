{
 "cells": [
  {
   "cell_type": "markdown",
   "metadata": {},
   "source": [
    "# Pair programming - Ejercicios de listas y tuplas"
   ]
  },
  {
   "cell_type": "markdown",
   "metadata": {},
   "source": [
    "\n",
    "1. Duplicar elementos de una lista\n",
    "\n",
    "Descripción: Dada una lista de números, duplica cada elemento en la lista. Ejemplo:\n",
    "\n",
    "Copy\n",
    "# dada la siguiente lista el output esperado es:\n",
    "lista = [2, 4, 6, 8]\n",
    "\n",
    "[2, 4, 6, 8, 2, 4, 6, 8]"
   ]
  },
  {
   "cell_type": "code",
   "execution_count": 72,
   "metadata": {},
   "outputs": [
    {
     "name": "stdout",
     "output_type": "stream",
     "text": [
      "[2, 4, 6, 8, 2, 4, 6, 8]\n"
     ]
    }
   ],
   "source": [
    "lista = [2, 4, 6, 8]\n",
    "lista_duplicada = lista + lista\n",
    "print(lista_duplicada)"
   ]
  },
  {
   "cell_type": "markdown",
   "metadata": {},
   "source": [
    "2. Combinar dos listas\n",
    "\n",
    "Descripción: Dadas dos listas, crea una nueva lista que contenga todos los elementos de ambas listas. Ejemplo:\n",
    "\n",
    "Copy\n",
    "# dadas las siguientes listas el output esperado es:\n",
    "lista1 = [1, 2, 3]\n",
    "lista2 = [4, 5, 6]\n",
    "\n",
    "[1, 2, 3, 4, 5, 6]"
   ]
  },
  {
   "cell_type": "code",
   "execution_count": 73,
   "metadata": {},
   "outputs": [
    {
     "name": "stdout",
     "output_type": "stream",
     "text": [
      "[1, 2, 3, 4, 5, 6]\n"
     ]
    }
   ],
   "source": [
    "lista1 = [1, 2, 3]\n",
    "lista2 = [4, 5, 6]\n",
    "\n",
    "lista1.extend(lista2)\n",
    "print(lista1)"
   ]
  },
  {
   "cell_type": "markdown",
   "metadata": {},
   "source": [
    "3. Calcular la suma de una lista de números\n",
    "\n",
    "Descripción: Dada una lista de números, calcula la suma de todos los elementos."
   ]
  },
  {
   "cell_type": "code",
   "execution_count": 74,
   "metadata": {},
   "outputs": [
    {
     "name": "stdout",
     "output_type": "stream",
     "text": [
      "6\n",
      "21\n"
     ]
    }
   ],
   "source": [
    "# primero determinados la longitud de la lista\n",
    "longitud = len(lista1)\n",
    "print(longitud)\n",
    "\n",
    "# sumamos el valor de cada posición en la lista\n",
    "suma = lista1[0] + lista1[1] + lista1[2] + lista1[3] + lista1[4] + lista1[5]\n",
    "print(suma)"
   ]
  },
  {
   "cell_type": "markdown",
   "metadata": {},
   "source": [
    "4. Encontrar el valor máximo en una lista\n",
    "\n",
    "Descripción: Dada una lista de números, encuentra el valor máximo."
   ]
  },
  {
   "cell_type": "code",
   "execution_count": 75,
   "metadata": {},
   "outputs": [
    {
     "name": "stdout",
     "output_type": "stream",
     "text": [
      "6\n"
     ]
    }
   ],
   "source": [
    "maximo = max(lista1)\n",
    "print(maximo)"
   ]
  },
  {
   "cell_type": "markdown",
   "metadata": {},
   "source": [
    "5. Calcular la longitud de una lista\n",
    "\n",
    "Descripción: Dada una lista, calcula la cantidad de elementos que contiene.\n",
    "\n"
   ]
  },
  {
   "cell_type": "code",
   "execution_count": 76,
   "metadata": {},
   "outputs": [
    {
     "name": "stdout",
     "output_type": "stream",
     "text": [
      "6\n"
     ]
    }
   ],
   "source": [
    "longitud = len(lista1)\n",
    "print(longitud)"
   ]
  },
  {
   "cell_type": "markdown",
   "metadata": {},
   "source": [
    "6. Encontrar el índice de un elemento en una lista\n",
    "\n",
    "Descripción: Dada una lista y un valor objetivo, encuentra el índice del primer elemento que coincida con el valor objetivo."
   ]
  },
  {
   "cell_type": "code",
   "execution_count": 77,
   "metadata": {},
   "outputs": [
    {
     "name": "stdout",
     "output_type": "stream",
     "text": [
      "[1, 2, 3, 4, 5, 6]\n",
      "2\n"
     ]
    }
   ],
   "source": [
    "print(lista1)\n",
    "valor_objetivo = 3\n",
    "print(lista1.index(valor_objetivo))"
   ]
  },
  {
   "cell_type": "markdown",
   "metadata": {},
   "source": [
    "7. Contar ocurrencias de un elemento en una lista\n",
    "\n",
    "Descripción: Dada una lista y un valor objetivo, cuenta cuántas veces aparece el valor objetivo en la lista."
   ]
  },
  {
   "cell_type": "code",
   "execution_count": 78,
   "metadata": {},
   "outputs": [
    {
     "name": "stdout",
     "output_type": "stream",
     "text": [
      "['a', 'b', 'b', 'c', 'd', 'b', 'e', 'f']\n",
      "El número de veces que existe el valor objetivo es: 3\n"
     ]
    }
   ],
   "source": [
    "# creo una nueva lista para que haya valores repetidos\n",
    "lista3 = ['a', 'b', 'b', 'c', 'd','b', 'e', 'f']\n",
    "print(lista3)\n",
    "valor_objetivo2 = 'b'\n",
    "print(\"El número de veces que existe el valor objetivo es:\", lista3.count(valor_objetivo2))"
   ]
  },
  {
   "cell_type": "markdown",
   "metadata": {},
   "source": [
    "8. Obtener una sublista de una lista\n",
    "\n",
    "Descripción: Dada una lista, crea una nueva lista que contenga los elementos desde el índice 2 hasta el índice 5 (sin incluirlo)."
   ]
  },
  {
   "cell_type": "code",
   "execution_count": 79,
   "metadata": {},
   "outputs": [
    {
     "name": "stdout",
     "output_type": "stream",
     "text": [
      "['a', 'b', 'b', 'c', 'd', 'b', 'e', 'f']\n",
      "['b', 'c', 'd', 'b']\n"
     ]
    }
   ],
   "source": [
    "print(lista3)\n",
    "lista3_new = lista3[2:6:1]\n",
    "print(lista3_new)"
   ]
  },
  {
   "cell_type": "markdown",
   "metadata": {},
   "source": [
    "9. Obtener el último elemento de una lista\n",
    "\n",
    "Descripción: Dada una lista, obtén el último elemento."
   ]
  },
  {
   "cell_type": "code",
   "execution_count": 80,
   "metadata": {},
   "outputs": [
    {
     "name": "stdout",
     "output_type": "stream",
     "text": [
      "Esta es la lista completa: ['a', 'b', 'b', 'c', 'd', 'b', 'e', 'f']\n",
      "Este es el último elemento de la lista: f\n"
     ]
    }
   ],
   "source": [
    "print(\"Esta es la lista completa:\", lista3)\n",
    "print(\"Este es el último elemento de la lista:\", lista3[len(lista3)-1])"
   ]
  },
  {
   "cell_type": "markdown",
   "metadata": {},
   "source": [
    "10. Obtener el último elemento de una lista\n",
    "\n",
    "Descripción: Dada una lista, obtén el último elemento."
   ]
  },
  {
   "cell_type": "code",
   "execution_count": 81,
   "metadata": {},
   "outputs": [
    {
     "name": "stdout",
     "output_type": "stream",
     "text": [
      "Esta es la lista completa: ['b', 'c', 'd', 'b']\n",
      "Este es el último elemento de la lista: b\n"
     ]
    }
   ],
   "source": [
    "print(\"Esta es la lista completa:\", lista3_new)\n",
    "print(\"Este es el último elemento de la lista:\", lista3_new[len(lista3_new)-1])"
   ]
  },
  {
   "cell_type": "markdown",
   "metadata": {},
   "source": [
    "11. Obtener una sublista de una lista\n",
    "\n",
    "Descripción: Dada una lista, obtén una sublista que contenga los elementos desde el índice 1 hasta el índice 3 (sin incluirlo)."
   ]
  },
  {
   "cell_type": "code",
   "execution_count": 82,
   "metadata": {},
   "outputs": [
    {
     "name": "stdout",
     "output_type": "stream",
     "text": [
      "Esta es la sublista de la lista3 ['b', 'b', 'c']\n"
     ]
    }
   ],
   "source": [
    "print(\"Esta es la sublista de la lista3\", lista3[1:4])"
   ]
  },
  {
   "cell_type": "markdown",
   "metadata": {},
   "source": [
    "BONUS"
   ]
  },
  {
   "cell_type": "markdown",
   "metadata": {},
   "source": [
    "15. Obtener elementos pares de una lista\n",
    "\n",
    "Descripción: Dada una lista, obtén una nueva lista que contenga solo los elementos en posiciones pares."
   ]
  },
  {
   "cell_type": "code",
   "execution_count": 83,
   "metadata": {},
   "outputs": [
    {
     "name": "stdout",
     "output_type": "stream",
     "text": [
      "Esta es la lista completa [1, 2, 3, 4, 5, 6, 7, 8, 9, 10, 11, 12, 13, 14, 15, 16]\n",
      "Estas son las posiciones pares [1, 3, 5, 7, 9, 11, 13, 15]\n"
     ]
    }
   ],
   "source": [
    "lista_numeros = [1, 2, 3, 4, 5, 6, 7, 8, 9, 10, 11, 12, 13, 14, 15, 16]\n",
    "print(\"Esta es la lista completa\", lista_numeros)\n",
    "\n",
    "print(\"Estas son las posiciones pares\", lista_numeros[::2])"
   ]
  },
  {
   "cell_type": "markdown",
   "metadata": {},
   "source": [
    "16. Obtener una sublista saltando elementos\n",
    "\n",
    "Descripción: Dada una lista, obtén una sublista que contenga los elementos saltando de 3 en 3."
   ]
  },
  {
   "cell_type": "code",
   "execution_count": 84,
   "metadata": {},
   "outputs": [
    {
     "name": "stdout",
     "output_type": "stream",
     "text": [
      "Esta es la lista completa [1, 2, 3, 4, 5, 6, 7, 8, 9, 10, 11, 12, 13, 14, 15, 16]\n",
      "Estas son las posiciones pares [1, 4, 7, 10, 13, 16]\n"
     ]
    }
   ],
   "source": [
    "lista_numeros = [1, 2, 3, 4, 5, 6, 7, 8, 9, 10, 11, 12, 13, 14, 15, 16]\n",
    "print(\"Esta es la lista completa\", lista_numeros)\n",
    "print(\"Estas son las posiciones pares\", lista_numeros[::3])"
   ]
  },
  {
   "cell_type": "markdown",
   "metadata": {},
   "source": [
    "17. Encontrar el segundo valor máximo en una lista\n",
    "\n",
    "Descripción: Dada una lista de números, encuentra el segundo valor máximo."
   ]
  },
  {
   "cell_type": "code",
   "execution_count": 85,
   "metadata": {},
   "outputs": [
    {
     "name": "stdout",
     "output_type": "stream",
     "text": [
      "Esta es la lista: [1, 2, 3, 4, 5, 6, 7, 8, 9, 10, 11, 12, 13, 14, 15, 16]\n",
      "Lista ordenada de mayor a menor: [16, 15, 14, 13, 12, 11, 10, 9, 8, 7, 6, 5, 4, 3, 2, 1]\n",
      "El segundo valor máximo es: 15\n"
     ]
    }
   ],
   "source": [
    "print(\"Esta es la lista:\", lista_numeros)\n",
    "\n",
    "# ordeno la lista de mayor a menor\n",
    "lista_numeros.sort(reverse=True)\n",
    "print(\"Lista ordenada de mayor a menor:\", lista_numeros)\n",
    "\n",
    "print(\"El segundo valor máximo es:\", lista_numeros[1])"
   ]
  },
  {
   "cell_type": "markdown",
   "metadata": {},
   "source": [
    "18. Teórico. Debereis contestar la pregunta en una celda de markdown.\n",
    "\n",
    "Descripción: ¿Qué diferencia existe entre el .sort() y el sorted()"
   ]
  },
  {
   "cell_type": "markdown",
   "metadata": {},
   "source": [
    "`.sort()` sobreescribe la lista original y no hace falta crear una nueva variable para utlizarla, mientras que `sorted()`no sobreescribe la lista orginal, si no que simplemente devuelve la lista ordenada, para lo que necesita que creemos una nueva variable."
   ]
  },
  {
   "cell_type": "markdown",
   "metadata": {},
   "source": [
    "19. Agregar elementos a una lista utilizando append y extend\n",
    "\n",
    "Descripción: Dada una lista inicial, agrega nuevos elementos utilizando tanto append como extend y observa las diferencias en el resultado final. El elemento que deberéis usar para añadir a la lista original tiene que ser una lista."
   ]
  },
  {
   "cell_type": "code",
   "execution_count": 86,
   "metadata": {},
   "outputs": [
    {
     "name": "stdout",
     "output_type": "stream",
     "text": [
      "[16, 15, 14, 13, 12, 11, 10, 9, 8, 7, 6, 5, 4, 3, 2, 1]\n",
      "[16, 15, 14, 13, 12, 11, 10, 9, 8, 7, 6, 5, 4, 3, 2, 1, ['hola', 'hello', 'alo']]\n"
     ]
    }
   ],
   "source": [
    "print(lista_numeros)\n",
    "\n",
    "añadido = ['hola', 'hello', 'alo']\n",
    "\n",
    "lista_numeros.append(añadido)\n",
    "print(lista_numeros)"
   ]
  },
  {
   "cell_type": "code",
   "execution_count": 87,
   "metadata": {},
   "outputs": [
    {
     "name": "stdout",
     "output_type": "stream",
     "text": [
      "['a', 'b', 'b', 'c', 'd', 'b', 'e', 'f']\n",
      "['a', 'b', 'b', 'c', 'd', 'b', 'e', 'f', 'hola', 'hello', 'alo']\n"
     ]
    }
   ],
   "source": [
    "print(lista3)\n",
    "añadido = ['hola', 'hello', 'alo']\n",
    "lista3.extend(añadido)\n",
    "print(lista3)\n"
   ]
  },
  {
   "cell_type": "markdown",
   "metadata": {},
   "source": [
    "20. Insertar un elemento en una posición específica\n",
    "\n",
    "Descripción: Dada una lista, inserta un nuevo elemento en una posición específica determinada por el usuario (debereis usar la función input para preguntar al usuario en que posición quiere insertar el elemento)."
   ]
  },
  {
   "cell_type": "code",
   "execution_count": 88,
   "metadata": {},
   "outputs": [
    {
     "name": "stdout",
     "output_type": "stream",
     "text": [
      "['a', 'b', 'b', 'c', 'd', 'b', 'e', 'f', 'hola', 'hello', 'alo']\n",
      "El usuario quiere insertarlo en la posición: 2\n",
      "Nueva lista: ['a', 'b', 'b', 'café', 'c', 'd', 'b', 'e', 'f', 'hola', 'hello', 'alo']\n"
     ]
    }
   ],
   "source": [
    "print(lista3)\n",
    "\n",
    "posicion = input(\"¿En qué posición quieres insertar el elemento?\")\n",
    "print(\"El usuario quiere insertarlo en la posición:\", posicion)\n",
    "\n",
    "new_elemento = 'café'\n",
    "\n",
    "lista3.insert(3, new_elemento)\n",
    "print(\"Nueva lista:\", lista3)"
   ]
  },
  {
   "cell_type": "markdown",
   "metadata": {},
   "source": [
    "21. Verificar si un elemento está presente en una lista\n",
    "\n",
    "Descripción: Dada una lista, verifica si un elemento específico está presente en ella. Igual que el caso anterior, debereis preguntar al usuario que elemento quiere buscar en la lista. El resultado deberá ser True o False."
   ]
  },
  {
   "cell_type": "code",
   "execution_count": null,
   "metadata": {},
   "outputs": [],
   "source": []
  },
  {
   "cell_type": "markdown",
   "metadata": {},
   "source": [
    "22. Manipulación de una lista utilizando remove(), pop() y clear()\n",
    "\n",
    "Descripción: Crea una lista inicial, realiza operaciones de eliminación y limpieza utilizando los métodos remove(), pop() y clear(), y observa cómo afectan a la lista."
   ]
  },
  {
   "cell_type": "code",
   "execution_count": null,
   "metadata": {},
   "outputs": [],
   "source": []
  },
  {
   "cell_type": "markdown",
   "metadata": {},
   "source": [
    "# Ejercicios de tuplas"
   ]
  },
  {
   "cell_type": "markdown",
   "metadata": {},
   "source": [
    "1. Acceder al primer elemento de una tupla\n",
    "\n",
    "Descripción: Dada una tupla, obtén el primer elemento."
   ]
  },
  {
   "cell_type": "code",
   "execution_count": null,
   "metadata": {},
   "outputs": [],
   "source": []
  },
  {
   "cell_type": "markdown",
   "metadata": {},
   "source": [
    "2. Acceder al último elemento de una tupla\n",
    "\n",
    "Descripción: Dada una tupla, obtén el último elemento."
   ]
  },
  {
   "cell_type": "code",
   "execution_count": null,
   "metadata": {},
   "outputs": [],
   "source": []
  },
  {
   "cell_type": "markdown",
   "metadata": {},
   "source": [
    "3. Obtener la longitud de una tupla\n",
    "\n",
    "Descripción: Dada una tupla, obtén la cantidad de elementos que contiene."
   ]
  },
  {
   "cell_type": "code",
   "execution_count": null,
   "metadata": {},
   "outputs": [],
   "source": []
  },
  {
   "cell_type": "markdown",
   "metadata": {},
   "source": [
    "4. Concatenar dos tuplas\n",
    "\n",
    "Descripción: Dadas dos tuplas, crea una nueva tupla que contenga todos los elementos de ambas tuplas."
   ]
  },
  {
   "cell_type": "code",
   "execution_count": null,
   "metadata": {},
   "outputs": [],
   "source": []
  },
  {
   "cell_type": "markdown",
   "metadata": {},
   "source": [
    "5. Encontrar el índice de un elemento en una tupla\n",
    "\n",
    "Descripción: Dada una tupla y un valor objetivo, encuentra el índice del primer elemento que coincida con el valor objetivo."
   ]
  },
  {
   "cell_type": "code",
   "execution_count": null,
   "metadata": {},
   "outputs": [],
   "source": []
  },
  {
   "cell_type": "markdown",
   "metadata": {},
   "source": [
    "6. Contar ocurrencias de un elemento en una tupla\n",
    "\n",
    "Descripción: Dada una tupla y un valor objetivo, cuenta cuántas veces aparece el valor objetivo en la tupla."
   ]
  },
  {
   "cell_type": "code",
   "execution_count": null,
   "metadata": {},
   "outputs": [],
   "source": []
  },
  {
   "cell_type": "markdown",
   "metadata": {},
   "source": [
    "7. Obtener una subtuple de una tupla\n",
    "\n",
    "Descripción: Dada una tupla, crea una nueva tupla que contenga los elementos desde el índice 1 hasta el índice 3 (sin incluirlo)."
   ]
  },
  {
   "cell_type": "code",
   "execution_count": null,
   "metadata": {},
   "outputs": [],
   "source": []
  },
  {
   "cell_type": "markdown",
   "metadata": {},
   "source": [
    "8. Invertir una tupla\n",
    "\n",
    "Descripción: Dada una tupla, inviértela en orden."
   ]
  },
  {
   "cell_type": "code",
   "execution_count": null,
   "metadata": {},
   "outputs": [],
   "source": []
  }
 ],
 "metadata": {
  "kernelspec": {
   "display_name": "Python 3",
   "language": "python",
   "name": "python3"
  },
  "language_info": {
   "codemirror_mode": {
    "name": "ipython",
    "version": 3
   },
   "file_extension": ".py",
   "mimetype": "text/x-python",
   "name": "python",
   "nbconvert_exporter": "python",
   "pygments_lexer": "ipython3",
   "version": "3.11.2"
  }
 },
 "nbformat": 4,
 "nbformat_minor": 2
}
