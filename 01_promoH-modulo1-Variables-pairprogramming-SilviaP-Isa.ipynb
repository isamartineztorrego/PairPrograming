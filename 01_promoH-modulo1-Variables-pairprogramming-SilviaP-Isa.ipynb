{
 "cells": [
  {
   "cell_type": "markdown",
   "metadata": {},
   "source": [
    "## Pair programming Variables\n",
    "\n",
    "# Antes de empezar\n",
    "\n",
    "Crear un repositorio para el pair programming en la organización de Adalab.\n",
    "\n",
    "El nombre del repositorio debe tener la siguiente estructura promoX-modulo1-sprint1-pairprogramming-NOMBRES_INTEGRANTES\n",
    "\n",
    "En la lección hemos hecho una primera aproximación a Python,hemos aprendido que tipos de datos tenemos, como podemos almacenar información en variables y como realizar ciertas operaciones con ellas.\n",
    "\n",
    "Además hemos aprendido que las variales de tipo string o de texto tienen muchos métodos propios que nos permiten modificarlos.\n",
    "\n",
    "Los objetivos del pair programming de hoy son:\n",
    "\n",
    "1. Cread tres variables numéricas de tipo integer (entero), llamadas de la siguiente forma:\n",
    "\n",
    "    numero1\n",
    "\n",
    "    numero2\n",
    "\n",
    "    numero3\n",
    "\n",
    "2. Utilizando los operadores lógicos:\n",
    "\n",
    "    En vuestro caso, es el numero1 mayor que el numero2\n",
    "\n",
    "        Es el numero1 menor que el numero2 pero mayor que el numero3\n",
    "\n",
    "        Es el numero3 igual que el numero2\n",
    "\n",
    "        Es el numero2 distinto que el numero1\n",
    "\n",
    "3. Cread dos variables numéricas de tipo float (decimal) con dos decimales, llamdas de la siguiente forma:\n",
    "\n",
    "        altura1\n",
    "\n",
    "        altura2\n",
    "\n",
    "4. Utilizando los operadores matemáticos aprendidos en la lección:\n",
    "\n",
    "        Cuál es la suma de las dos alturas\n",
    "\n",
    "        Cuál es la diferencia entre las alturas\n",
    "\n",
    "        Cuál es el resto de la división de las dos alturas\n",
    "\n",
    "        Cuál es resultado de la división de las dos alturas, redondead el resultado a un decimal.\n",
    "\n",
    "5. Escribid un programa usando la función input() que le pregunte al usuario su nombre y apellidos. Una vez que tengamos el nombre del usuario:\n",
    "\n",
    "        Printead su nombre y apellidos todo en mayúsculas\n",
    "\n",
    "        Printead su nombre y apellidos todo en minúsculas\n",
    "\n",
    "        Printead su nombre y apellidos con la primera letra del nombre y los apellidos en mayúscula y el resto en minúscula.\n",
    "\n",
    "        Printeas solo la primera letra del nombre en mayúscula.\n",
    "\n",
    "6. Escribid un programa usando la función input() que:\n",
    "\n",
    "        Le pregunte al usuario por una frase, almacenad este resultado en una variable.\n",
    "\n",
    "        Le pregunte al usuario por una vocal, almacenad este resultado en una variable.\n",
    "\n",
    "        Printead la misma frase pero con la vocal introducida en mayúsulas.\n",
    "\n",
    "7. Escribid un programa usando la función input() que:\n",
    "\n",
    "        Le pregunte al usuario por la lista de la compra, separando cada elemento por comas.\n",
    "\n",
    "         Devolved la lista de compra donde veamos cada elemento en una línea.\n",
    "\n",
    "        💡Pista\n",
    "\n",
    "            Para indicar salto de línea usaremos \"\\n\".\n",
    "\n",
    "            Deberéis usar el método join de los strings\n",
    "\n",
    "        📌 Output deseado\n",
    "\n",
    "            Copy\n",
    "            resultado_del_input = [\"peras\", \"manzanas\", \"naranjas\"]\n",
    "\n",
    "            # output después del ejercicio\n",
    "            \"peras\"\n",
    "            \"manzanas\"\n",
    "            \"naranjas\""
   ]
  },
  {
   "cell_type": "markdown",
   "metadata": {},
   "source": [
    "1. Cread tres variables numéricas de tipo integer (entero), llamadas de la siguiente forma:\n",
    "\n",
    "    numero1\n",
    "\n",
    "    numero2\n",
    "\n",
    "    numero3"
   ]
  },
  {
   "cell_type": "code",
   "execution_count": 2,
   "metadata": {},
   "outputs": [],
   "source": [
    "numero1 =10\n",
    "numero2 =5\n",
    "numero3 =7\n"
   ]
  },
  {
   "cell_type": "markdown",
   "metadata": {},
   "source": [
    "2. Utilizando los operadores lógicos:\n",
    "\n",
    "    En vuestro caso, es el numero1 mayor que el numero2\n",
    "\n",
    "        Es el numero1 menor que el numero2 pero mayor que el numero3\n",
    "\n",
    "        Es el numero3 igual que el numero2\n",
    "\n",
    "        Es el numero2 distinto que el numero1"
   ]
  },
  {
   "cell_type": "code",
   "execution_count": 4,
   "metadata": {},
   "outputs": [
    {
     "name": "stdout",
     "output_type": "stream",
     "text": [
      "True\n",
      "False\n",
      "False\n",
      "True\n"
     ]
    }
   ],
   "source": [
    "print(numero1 > numero2)\n",
    "print(numero1 < numero2 > numero3)\n",
    "print(numero3 == numero2)\n",
    "print(numero2 !=  numero1)\n",
    "\n"
   ]
  },
  {
   "cell_type": "markdown",
   "metadata": {},
   "source": [
    "3. Cread dos variables numéricas de tipo float (decimal) con dos decimales, llamdas de la siguiente forma:\n",
    "\n",
    "        altura1\n",
    "\n",
    "        altura2"
   ]
  },
  {
   "cell_type": "code",
   "execution_count": 6,
   "metadata": {},
   "outputs": [],
   "source": [
    "altura1=3.45\n",
    "altura2=5.63\n",
    "\n"
   ]
  },
  {
   "cell_type": "markdown",
   "metadata": {},
   "source": [
    "4. Utilizando los operadores matemáticos aprendidos en la lección:\n",
    "\n",
    "        Cuál es la suma de las dos alturas\n",
    "\n",
    "        Cuál es la diferencia entre las alturas\n",
    "\n",
    "        Cuál es el resto de la división de las dos alturas\n",
    "\n",
    "        Cuál es resultado de la división de las dos alturas, redondead el resultado a un decimal."
   ]
  },
  {
   "cell_type": "code",
   "execution_count": 8,
   "metadata": {},
   "outputs": [
    {
     "name": "stdout",
     "output_type": "stream",
     "text": [
      "la suma de las dos alturas es: 9.08\n",
      "la resta de las dos alturas es: -2.1799999999999997\n",
      "el resto de la división de las dos alturas es: 3.45\n",
      "el resultado de la división de las dos alturas es: 0.6\n"
     ]
    }
   ],
   "source": [
    "print(\"la suma de las dos alturas es:\",altura1 + altura2)\n",
    "print(\"la resta de las dos alturas es:\",altura1 - altura2)\n",
    "print(\"el resto de la división de las dos alturas es:\",altura1 % altura2)\n",
    "print(\"el resultado de la división de las dos alturas es:\",round(altura1 / altura2,1))\n"
   ]
  },
  {
   "cell_type": "markdown",
   "metadata": {},
   "source": [
    "5. Escribid un programa usando la función input() que le pregunte al usuario su nombre y apellidos. Una vez que tengamos el nombre del usuario:\n",
    "\n",
    "        Printead su nombre y apellidos todo en mayúsculas\n",
    "\n",
    "        Printead su nombre y apellidos todo en minúsculas\n",
    "\n",
    "        Printead su nombre y apellidos con la primera letra del nombre y los apellidos en mayúscula y el resto en minúscula.\n",
    "\n",
    "        Printeas solo la primera letra del nombre en mayúscula."
   ]
  },
  {
   "cell_type": "code",
   "execution_count": 5,
   "metadata": {},
   "outputs": [
    {
     "name": "stdout",
     "output_type": "stream",
     "text": [
      "SILVIA PIÑEL\n"
     ]
    }
   ],
   "source": [
    "nombre_usuario = input(\"por favor, introduzca su nombre y apellido\")\n",
    "print(nombre_usuario.upper())"
   ]
  },
  {
   "cell_type": "markdown",
   "metadata": {},
   "source": [
    "6. Escribid un programa usando la función input() que:\n",
    "\n",
    "        Le pregunte al usuario por una frase, almacenad este resultado en una variable.\n",
    "\n",
    "        Le pregunte al usuario por una vocal, almacenad este resultado en una variable.\n",
    "\n",
    "        Printead la misma frase pero con la vocal introducida en mayúsulas."
   ]
  },
  {
   "cell_type": "code",
   "execution_count": null,
   "metadata": {},
   "outputs": [],
   "source": [
    "frase = input (\"Introduce una frase\")\n",
    "vocal = input (\"Introduce una vocal\")\n"
   ]
  },
  {
   "cell_type": "markdown",
   "metadata": {},
   "source": [
    "7. Escribid un programa usando la función input() que:\n",
    "\n",
    "        Le pregunte al usuario por la lista de la compra, separando cada elemento por comas.\n",
    "\n",
    "         Devolved la lista de compra donde veamos cada elemento en una línea.\n",
    "\n",
    "        💡Pista\n",
    "\n",
    "            Para indicar salto de línea usaremos \"\\n\".\n",
    "\n",
    "            Deberéis usar el método join de los strings\n",
    "\n",
    "        📌 Output deseado\n",
    "\n",
    "            Copy\n",
    "            resultado_del_input = [\"peras\", \"manzanas\", \"naranjas\"]\n",
    "\n",
    "            # output después del ejercicio\n",
    "            \"peras\"\n",
    "            \"manzanas\"\n",
    "            \"naranjas\""
   ]
  },
  {
   "cell_type": "code",
   "execution_count": null,
   "metadata": {},
   "outputs": [],
   "source": []
  }
 ],
 "metadata": {
  "kernelspec": {
   "display_name": "Python 3",
   "language": "python",
   "name": "python3"
  },
  "language_info": {
   "codemirror_mode": {
    "name": "ipython",
    "version": 3
   },
   "file_extension": ".py",
   "mimetype": "text/x-python",
   "name": "python",
   "nbconvert_exporter": "python",
   "pygments_lexer": "ipython3",
   "version": "3.11.8"
  }
 },
 "nbformat": 4,
 "nbformat_minor": 2
}
